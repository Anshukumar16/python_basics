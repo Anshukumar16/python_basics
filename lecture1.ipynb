{
  "nbformat": 4,
  "nbformat_minor": 0,
  "metadata": {
    "colab": {
      "provenance": [],
      "toc_visible": true,
      "authorship_tag": "ABX9TyMPMuv+E82OBq9ANdN5mXI3",
      "include_colab_link": true
    },
    "kernelspec": {
      "name": "python3",
      "display_name": "Python 3"
    },
    "language_info": {
      "name": "python"
    }
  },
  "cells": [
    {
      "cell_type": "markdown",
      "metadata": {
        "id": "view-in-github",
        "colab_type": "text"
      },
      "source": [
        "<a href=\"https://colab.research.google.com/github/Anshukumar16/python_basics/blob/main/lecture1.ipynb\" target=\"_parent\"><img src=\"https://colab.research.google.com/assets/colab-badge.svg\" alt=\"Open In Colab\"/></a>"
      ]
    },
    {
      "cell_type": "markdown",
      "source": [
        "\n",
        "\n",
        "\n",
        "\n",
        "#declaration of variables"
      ],
      "metadata": {
        "id": "VmG5pWIzXGVt"
      }
    },
    {
      "cell_type": "code",
      "execution_count": null,
      "metadata": {
        "colab": {
          "base_uri": "https://localhost:8080/"
        },
        "id": "7RwYdiDsUSvJ",
        "outputId": "a744aab5-3f40-435d-ed90-a3566abb879a"
      },
      "outputs": [
        {
          "output_type": "stream",
          "name": "stdout",
          "text": [
            "The value of a is 10\n"
          ]
        }
      ],
      "source": [
        "a=10\n",
        "print(\"The value of a is\",a)"
      ]
    },
    {
      "cell_type": "markdown",
      "source": [
        "1. Multiple assignment in a variable"
      ],
      "metadata": {
        "id": "3w4r7GqmXtPp"
      }
    },
    {
      "cell_type": "code",
      "source": [
        "a,b=10,20\n",
        "print(a,b)"
      ],
      "metadata": {
        "colab": {
          "base_uri": "https://localhost:8080/"
        },
        "id": "K9yvmJ-HYTN9",
        "outputId": "002ba787-b23e-4545-aff1-e91a7afe55f5"
      },
      "execution_count": null,
      "outputs": [
        {
          "output_type": "stream",
          "name": "stdout",
          "text": [
            "10 20\n"
          ]
        }
      ]
    },
    {
      "cell_type": "markdown",
      "source": [
        "2.Multiple assignment with same values"
      ],
      "metadata": {
        "id": "7cWcKEoSYaxA"
      }
    },
    {
      "cell_type": "code",
      "source": [
        "a=b=c=100\n",
        "print (a,b,c)"
      ],
      "metadata": {
        "colab": {
          "base_uri": "https://localhost:8080/"
        },
        "id": "46pHefGFYf-V",
        "outputId": "eeef1f8c-b476-4fd5-9ddc-536d37493f57"
      },
      "execution_count": null,
      "outputs": [
        {
          "output_type": "stream",
          "name": "stdout",
          "text": [
            "100 100 100\n"
          ]
        }
      ]
    },
    {
      "cell_type": "markdown",
      "source": [
        "3.Rules for naming variables\n",
        "\n",
        "1.   Variable names can only contain letters,digits and _.\n",
        "2.   A variable name cannot start with a digit.\n",
        "3.   Variable names are case sensitive(Ex myVar and myvar are different)\n",
        "4.   Avoid using python keywords such as if,else,for,class.\n",
        "\n",
        "\n",
        "\n"
      ],
      "metadata": {
        "id": "rTqQ1x1xYsL4"
      }
    },
    {
      "cell_type": "code",
      "source": [
        "a=10\n",
        "class=10\n",
        "user_name=\"Anshu\"\n",
        "1_name=\"Error\"\n",
        "print(class,a,user-name,1_name)"
      ],
      "metadata": {
        "colab": {
          "base_uri": "https://localhost:8080/",
          "height": 106
        },
        "id": "95ZIBb5SZgoG",
        "outputId": "ee9acee8-38b1-4dcc-bb37-35d653d8515c"
      },
      "execution_count": null,
      "outputs": [
        {
          "output_type": "error",
          "ename": "SyntaxError",
          "evalue": "invalid decimal literal (ipython-input-2145213485.py, line 4)",
          "traceback": [
            "\u001b[0;36m  File \u001b[0;32m\"/tmp/ipython-input-2145213485.py\"\u001b[0;36m, line \u001b[0;32m4\u001b[0m\n\u001b[0;31m    1_name=\"Error\"\u001b[0m\n\u001b[0m     ^\u001b[0m\n\u001b[0;31mSyntaxError\u001b[0m\u001b[0;31m:\u001b[0m invalid decimal literal\n"
          ]
        }
      ]
    },
    {
      "cell_type": "markdown",
      "source": [
        "**TypeCasting**"
      ],
      "metadata": {
        "id": "ryJuSVjdk61M"
      }
    },
    {
      "cell_type": "markdown",
      "source": [
        "Q.Hulk strength level is recorded as a string input 1000 convert into an integer and increase it by 200."
      ],
      "metadata": {
        "id": "2nWVkIAlmaP9"
      }
    },
    {
      "cell_type": "code",
      "source": [
        "Hulk_strength=\"1000\"\n",
        "Hulk_int_strength=int(Hulk_strength)\n",
        "Hulk_new_strength=Hulk_int_strength+200\n",
        "print(Hulk_new_strength)"
      ],
      "metadata": {
        "colab": {
          "base_uri": "https://localhost:8080/"
        },
        "id": "0AYMFiWKmr08",
        "outputId": "df24af85-3aec-48ba-8685-26a4f5096651"
      },
      "execution_count": null,
      "outputs": [
        {
          "output_type": "stream",
          "name": "stdout",
          "text": [
            "1200\n"
          ]
        }
      ]
    },
    {
      "cell_type": "markdown",
      "source": [
        "Q2. Thors hammer mass is 5000(int),but you need to calculate the gravitational force ,which require it as float."
      ],
      "metadata": {
        "id": "SGhkWh2jna1m"
      }
    },
    {
      "cell_type": "code",
      "source": [
        "Hammer=5000\n",
        "Hammer_float=float(Hammer)\n",
        "Gravitation=Hammer_float/9.8\n",
        "print(Gravitation)"
      ],
      "metadata": {
        "colab": {
          "base_uri": "https://localhost:8080/"
        },
        "id": "J23utvPan1c9",
        "outputId": "2572b563-72bf-4f08-e3d3-a5da9cfff64f"
      },
      "execution_count": null,
      "outputs": [
        {
          "output_type": "stream",
          "name": "stdout",
          "text": [
            "510.204081632653\n"
          ]
        }
      ]
    },
    {
      "cell_type": "markdown",
      "source": [
        "Q4. Loki gets input in seconds (as string):\"3600\".Convert it into an integer and then to hours.Show final results as a float"
      ],
      "metadata": {
        "id": "fwQglEXzoUSX"
      }
    },
    {
      "cell_type": "code",
      "source": [
        "String=\"3600\"\n",
        "String_int=int(String)\n",
        "Hours=String_int/3600\n",
        "print(Hours)"
      ],
      "metadata": {
        "colab": {
          "base_uri": "https://localhost:8080/"
        },
        "id": "jftsaFS7oo6e",
        "outputId": "55323313-4ae5-4b6e-e777-d5e7e02e5a3d"
      },
      "execution_count": null,
      "outputs": [
        {
          "output_type": "stream",
          "name": "stdout",
          "text": [
            "1.0\n"
          ]
        }
      ]
    },
    {
      "cell_type": "markdown",
      "source": [
        "Q5. Iron man recorded 7 hits out of 10 shots (both integers).Convert them into float and calculate accuracy percentage."
      ],
      "metadata": {
        "id": "yC8oQsNApAGg"
      }
    },
    {
      "cell_type": "code",
      "source": [
        " hits=7\n",
        " shot=10\n",
        " Hit=float(hits)\n",
        " Shot=float(shot)\n",
        " Accuracy=Hit*100/Shot\n",
        " print(Accuracy)\n"
      ],
      "metadata": {
        "colab": {
          "base_uri": "https://localhost:8080/"
        },
        "id": "zT5NaqbvpZzI",
        "outputId": "871ee5f6-4b1d-4bfd-9e98-49b72547c1d5"
      },
      "execution_count": null,
      "outputs": [
        {
          "output_type": "stream",
          "name": "stdout",
          "text": [
            "70.0\n"
          ]
        }
      ]
    },
    {
      "cell_type": "markdown",
      "source": [
        "#lecture 2"
      ],
      "metadata": {
        "id": "HGrq3dc7aIEi"
      }
    },
    {
      "cell_type": "markdown",
      "source": [
        "#String Datatype"
      ],
      "metadata": {
        "id": "6XDckkx-aTy3"
      }
    },
    {
      "cell_type": "markdown",
      "source": [
        "\n",
        "\n",
        "1.  Array of bytes representing unicode characters.\n",
        "2.  No separate character data type; a character is a string of length one.\n",
        "3. String can be created using ' ', \" \", or \"\"\" \"\"\".\n",
        "4. Access individual character using indexing, starting at 0.\n",
        "5. Strings are immutable.\n",
        "6. str()"
      ],
      "metadata": {
        "id": "71xL7HKyacpJ"
      }
    },
    {
      "cell_type": "code",
      "source": [
        "s1=\"This is a string\"\n",
        "print(s1)\n",
        "len(s1)"
      ],
      "metadata": {
        "colab": {
          "base_uri": "https://localhost:8080/"
        },
        "id": "ywkT4wYlaxTK",
        "outputId": "d24e4b03-3f27-4ac2-c74d-20597533bb23"
      },
      "execution_count": null,
      "outputs": [
        {
          "output_type": "stream",
          "name": "stdout",
          "text": [
            "This is a string\n"
          ]
        },
        {
          "output_type": "execute_result",
          "data": {
            "text/plain": [
              "16"
            ]
          },
          "metadata": {},
          "execution_count": 8
        }
      ]
    },
    {
      "cell_type": "code",
      "source": [
        "s2=\"This\"+\"is\"+\"also\"+\"a\"+\"string.\"\n",
        "print(s2)\n",
        "len(s2)"
      ],
      "metadata": {
        "colab": {
          "base_uri": "https://localhost:8080/"
        },
        "id": "D2NPOQVra7dc",
        "outputId": "3726b340-21d1-4389-e690-46d707ee358a"
      },
      "execution_count": null,
      "outputs": [
        {
          "output_type": "stream",
          "name": "stdout",
          "text": [
            "Thisisalsoastring.\n"
          ]
        },
        {
          "output_type": "execute_result",
          "data": {
            "text/plain": [
              "18"
            ]
          },
          "metadata": {},
          "execution_count": 7
        }
      ]
    },
    {
      "cell_type": "code",
      "source": [
        "s3=\"this is a string \\\n",
        "written in multiple line\"\n",
        "print(s3)\n"
      ],
      "metadata": {
        "colab": {
          "base_uri": "https://localhost:8080/"
        },
        "id": "sSLwS4TJbnTW",
        "outputId": "342f7061-501b-45df-c42b-a8f878fa002e"
      },
      "execution_count": null,
      "outputs": [
        {
          "output_type": "stream",
          "name": "stdout",
          "text": [
            "this is a string written in multiple line\n"
          ]
        }
      ]
    },
    {
      "cell_type": "code",
      "source": [
        "#we can multiply string with an integer to get a repeatitive effect\n",
        "\n",
        "Iron_man=\"Smash It !!\\n\"\n",
        "print(Iron_man*5)"
      ],
      "metadata": {
        "colab": {
          "base_uri": "https://localhost:8080/"
        },
        "id": "bV3VQ7v2cTGK",
        "outputId": "60ddb013-bdaf-4e18-ad57-7691ef027e7c"
      },
      "execution_count": null,
      "outputs": [
        {
          "output_type": "stream",
          "name": "stdout",
          "text": [
            "Smash It !!\n",
            "Smash It !!\n",
            "Smash It !!\n",
            "Smash It !!\n",
            "Smash It !!\n",
            "\n"
          ]
        }
      ]
    },
    {
      "cell_type": "code",
      "source": [
        "Iron_Man=\"hello \"+'this '+\"is \"+\" me\"\n",
        "print(Iron_Man)"
      ],
      "metadata": {
        "colab": {
          "base_uri": "https://localhost:8080/"
        },
        "id": "k5-zRGV5c4Zx",
        "outputId": "51937c32-aee1-45a0-9a49-b56de7ac8bfa"
      },
      "execution_count": null,
      "outputs": [
        {
          "output_type": "stream",
          "name": "stdout",
          "text": [
            "hello this is  me\n"
          ]
        }
      ]
    },
    {
      "cell_type": "code",
      "source": [
        "Avenger=\"Spiderman\"\n",
        "length_avg=len(Avenger)\n",
        "first_ch=Avenger[0]\n",
        "print(\"the first character is:\",Avenger[0])\n",
        "#IN PYTHON -0 AND 0 ARE SAME\n",
        "print(\"the first character is:\",Avenger[-0])"
      ],
      "metadata": {
        "colab": {
          "base_uri": "https://localhost:8080/"
        },
        "id": "0Akzp5pQdmPx",
        "outputId": "2f5f3eed-b4b8-4be4-a680-88238163463c"
      },
      "execution_count": null,
      "outputs": [
        {
          "output_type": "stream",
          "name": "stdout",
          "text": [
            "the first character is: S\n",
            "the first character is: S\n"
          ]
        }
      ]
    },
    {
      "cell_type": "code",
      "source": [
        "#Negative indexing\n",
        "\n",
        "last_ch=Avenger[-2]\n",
        "print(last_ch)"
      ],
      "metadata": {
        "colab": {
          "base_uri": "https://localhost:8080/"
        },
        "id": "PHaVHd_eeSgc",
        "outputId": "9ceba821-ba2c-412a-d30c-ab762c53c9a6"
      },
      "execution_count": null,
      "outputs": [
        {
          "output_type": "stream",
          "name": "stdout",
          "text": [
            "a\n"
          ]
        }
      ]
    },
    {
      "cell_type": "code",
      "source": [
        "# Slicing\n",
        "\n",
        "slicing=Avenger[1:5]\n",
        "print(slicing)\n",
        "\n",
        "\n",
        "slicing=Avenger[ :6]\n",
        "print(slicing)\n",
        "\n",
        "#step slicing (skips one step)\n",
        "slicing=Avenger[1:4:2]\n",
        "print(slicing)"
      ],
      "metadata": {
        "colab": {
          "base_uri": "https://localhost:8080/"
        },
        "id": "s1ts8jafestI",
        "outputId": "79e682b7-3693-44e8-fcd0-868b94e1f96a"
      },
      "execution_count": null,
      "outputs": [
        {
          "output_type": "stream",
          "name": "stdout",
          "text": [
            "pide\n",
            "Spider\n",
            "pd\n"
          ]
        }
      ]
    },
    {
      "cell_type": "code",
      "source": [
        "# Positive indexing does not exist for negative indexing\n",
        "slicing=Avenger[1:4:-2]\n",
        "print(slicing)"
      ],
      "metadata": {
        "colab": {
          "base_uri": "https://localhost:8080/",
          "height": 176
        },
        "id": "jHTaMc_fjm9b",
        "outputId": "521d0932-b724-4605-bd8a-87d531318268"
      },
      "execution_count": null,
      "outputs": [
        {
          "output_type": "error",
          "ename": "NameError",
          "evalue": "name 'Avenger' is not defined",
          "traceback": [
            "\u001b[0;31m---------------------------------------------------------------------------\u001b[0m",
            "\u001b[0;31mNameError\u001b[0m                                 Traceback (most recent call last)",
            "\u001b[0;32m/tmp/ipython-input-2846464602.py\u001b[0m in \u001b[0;36m<cell line: 0>\u001b[0;34m()\u001b[0m\n\u001b[1;32m      1\u001b[0m \u001b[0;31m# Positive indexing does not exist for negative indexing\u001b[0m\u001b[0;34m\u001b[0m\u001b[0;34m\u001b[0m\u001b[0m\n\u001b[0;32m----> 2\u001b[0;31m \u001b[0mslicing\u001b[0m\u001b[0;34m=\u001b[0m\u001b[0mAvenger\u001b[0m\u001b[0;34m[\u001b[0m\u001b[0;36m1\u001b[0m\u001b[0;34m:\u001b[0m\u001b[0;36m4\u001b[0m\u001b[0;34m:\u001b[0m\u001b[0;34m-\u001b[0m\u001b[0;36m2\u001b[0m\u001b[0;34m]\u001b[0m\u001b[0;34m\u001b[0m\u001b[0;34m\u001b[0m\u001b[0m\n\u001b[0m\u001b[1;32m      3\u001b[0m \u001b[0mprint\u001b[0m\u001b[0;34m(\u001b[0m\u001b[0mslicing\u001b[0m\u001b[0;34m)\u001b[0m\u001b[0;34m\u001b[0m\u001b[0;34m\u001b[0m\u001b[0m\n",
            "\u001b[0;31mNameError\u001b[0m: name 'Avenger' is not defined"
          ]
        }
      ]
    },
    {
      "cell_type": "code",
      "source": [
        "#Reverse skip slicing Spiderman\n",
        "slicing=Avenger[::-2]\n",
        "print(slicing)\n",
        "\n",
        "#reverse slicing\n",
        "slicing=Avenger[::-1]\n",
        "print(slicing)\n",
        "slicing=Avenger[-1:-4:-2]\n",
        "print(slicing)"
      ],
      "metadata": {
        "colab": {
          "base_uri": "https://localhost:8080/"
        },
        "id": "KfCFVqaikZ9k",
        "outputId": "204c1baf-1752-42b7-c990-ceb441b96a2f"
      },
      "execution_count": null,
      "outputs": [
        {
          "output_type": "stream",
          "name": "stdout",
          "text": [
            "nmeiS\n",
            "namredipS\n",
            "nm\n"
          ]
        }
      ]
    },
    {
      "cell_type": "code",
      "source": [
        "#For loop\n",
        "\n",
        "for ch in Avenger:\n",
        "  print(ch)"
      ],
      "metadata": {
        "id": "h6hsL-sLlB15",
        "colab": {
          "base_uri": "https://localhost:8080/"
        },
        "outputId": "ddc768cb-e8c5-43c7-edd8-53641f8e4af4"
      },
      "execution_count": null,
      "outputs": [
        {
          "output_type": "stream",
          "name": "stdout",
          "text": [
            "S\n",
            "p\n",
            "i\n",
            "d\n",
            "e\n",
            "r\n",
            "m\n",
            "a\n",
            "n\n"
          ]
        }
      ]
    },
    {
      "cell_type": "code",
      "source": [
        "#printing index\n",
        "for i in range(len(Avenger)):\n",
        "  print(i,Avenger[i])"
      ],
      "metadata": {
        "colab": {
          "base_uri": "https://localhost:8080/"
        },
        "id": "3grhTGB6meQa",
        "outputId": "847d84af-e744-4ef4-fd29-08e7b979bf79"
      },
      "execution_count": null,
      "outputs": [
        {
          "output_type": "stream",
          "name": "stdout",
          "text": [
            "0 S\n",
            "1 p\n",
            "2 i\n",
            "3 d\n",
            "4 e\n",
            "5 r\n",
            "6 m\n",
            "7 a\n",
            "8 n\n"
          ]
        }
      ]
    },
    {
      "cell_type": "code",
      "source": [
        "#reversing string using for loop\n",
        "for i in range(len(Avenger)):\n",
        "  print(len(Avenger)-i-1,Avenger[len(Avenger)-i-1])"
      ],
      "metadata": {
        "colab": {
          "base_uri": "https://localhost:8080/"
        },
        "id": "39xU2x0xmr5h",
        "outputId": "743604d7-2d86-44f2-b164-e7af34b477b1"
      },
      "execution_count": null,
      "outputs": [
        {
          "output_type": "stream",
          "name": "stdout",
          "text": [
            "8 n\n",
            "7 a\n",
            "6 m\n",
            "5 r\n",
            "4 e\n",
            "3 d\n",
            "2 i\n",
            "1 p\n",
            "0 S\n"
          ]
        }
      ]
    },
    {
      "cell_type": "markdown",
      "source": [
        "Q.)Write a python program to check if the string is pallindrome or not"
      ],
      "metadata": {
        "id": "rv5jrtCTnlR4"
      }
    },
    {
      "cell_type": "code",
      "source": [
        "l=\"abccba\"\n",
        "if l==l[::-1]:\n",
        "  print(\"Pallindrome\")\n",
        "\n",
        "else:\n",
        "  print(\"Not pallindrome\")"
      ],
      "metadata": {
        "colab": {
          "base_uri": "https://localhost:8080/"
        },
        "id": "NkefrNnCntoS",
        "outputId": "47d1ae8d-6f5f-4141-f542-eec60ade241c"
      },
      "execution_count": null,
      "outputs": [
        {
          "output_type": "stream",
          "name": "stdout",
          "text": [
            "Pallindrome\n"
          ]
        }
      ]
    },
    {
      "cell_type": "markdown",
      "source": [
        "#lecture 3"
      ],
      "metadata": {
        "id": "sBSfuFsg8RA1"
      }
    },
    {
      "cell_type": "markdown",
      "source": [
        "Unicode"
      ],
      "metadata": {
        "id": "AAKz3bZH8VYB"
      }
    },
    {
      "cell_type": "markdown",
      "source": [
        "1.In early 1960s a standard was published called american standard code for information interchange(ASCII) it specifies the mapping of binary values to characters . It uses 7 bit to represent the characters(0-127) range a(97) to z(122) and A(65) to Z(90)\n",
        "\n",
        "2.The ASCII character sets is limited in that it cannot handle characters from other language therefore unicode standards are proposed pythin 3 uses unicode by default (UTF-8) it defines more thanone lakh characters the prefix used to print the character  pie in example given"
      ],
      "metadata": {
        "id": "VHsDb54489dX"
      }
    },
    {
      "cell_type": "code",
      "source": [
        "print(\"\\u03c0\")"
      ],
      "metadata": {
        "colab": {
          "base_uri": "https://localhost:8080/"
        },
        "id": "O-wQSuEE8Tzl",
        "outputId": "01d280b4-2e24-4e24-d825-3afb1386aade"
      },
      "execution_count": null,
      "outputs": [
        {
          "output_type": "stream",
          "name": "stdout",
          "text": [
            "π\n"
          ]
        }
      ]
    },
    {
      "cell_type": "markdown",
      "source": [
        "Escape characters"
      ],
      "metadata": {
        "id": "RQgLCcKr-VX1"
      }
    },
    {
      "cell_type": "markdown",
      "source": [
        "\\t is used for horizontal tab.(7)\n",
        "\\a is alert,beep.(8)\n",
        "\\b backspace.(9)\n",
        "\\n newline(10)\n",
        "\\v vertical line.(11)\n",
        "\\f newpage.(12)\n",
        "\\r carriage return(13)\n",
        "\\0 NULL or String terminator(14)"
      ],
      "metadata": {
        "id": "OesO5NLU-ghx"
      }
    },
    {
      "cell_type": "code",
      "source": [
        "print(\"spiderman\\nCaptain america\")\n",
        "print(\"Hulk\\tThor\")"
      ],
      "metadata": {
        "colab": {
          "base_uri": "https://localhost:8080/"
        },
        "id": "1jFPeghi_iYZ",
        "outputId": "7ce2ced5-4124-458d-f93a-445fa06db51e"
      },
      "execution_count": null,
      "outputs": [
        {
          "output_type": "stream",
          "name": "stdout",
          "text": [
            "spiderman\n",
            "Captain america\n",
            "Hulk\tThor\n"
          ]
        }
      ]
    },
    {
      "cell_type": "code",
      "source": [
        "print(\"Black widow\\'s Mission\")"
      ],
      "metadata": {
        "colab": {
          "base_uri": "https://localhost:8080/"
        },
        "id": "mL-bVDd3_xVA",
        "outputId": "d5d389ef-0cbb-45b1-c16a-ef84f77374eb"
      },
      "execution_count": null,
      "outputs": [
        {
          "output_type": "stream",
          "name": "stdout",
          "text": [
            "Black widow's Mission\n"
          ]
        }
      ]
    },
    {
      "cell_type": "markdown",
      "source": [
        "Printing path in python"
      ],
      "metadata": {
        "id": "JjS5tU_iAfLv"
      }
    },
    {
      "cell_type": "code",
      "source": [
        "print(\"c:\\\\cpp programs\")"
      ],
      "metadata": {
        "colab": {
          "base_uri": "https://localhost:8080/"
        },
        "id": "uJk24ThXAxbo",
        "outputId": "89f6cfd6-830b-42ac-cd09-c1a1b74b18ce"
      },
      "execution_count": null,
      "outputs": [
        {
          "output_type": "stream",
          "name": "stdout",
          "text": [
            "c:\\cpp programs\n"
          ]
        }
      ]
    },
    {
      "cell_type": "code",
      "source": [
        "print(\"Smash\\a\") #it will trigger a beep sound on supported terminal"
      ],
      "metadata": {
        "colab": {
          "base_uri": "https://localhost:8080/"
        },
        "id": "T-FmKxM0BJ9C",
        "outputId": "1adc4104-e0b5-4302-e4cf-b413f6e83d17"
      },
      "execution_count": null,
      "outputs": [
        {
          "output_type": "stream",
          "name": "stdout",
          "text": [
            "Smash\u0007\n"
          ]
        }
      ]
    },
    {
      "cell_type": "code",
      "source": [
        "print(\"Hello\\b\")"
      ],
      "metadata": {
        "colab": {
          "base_uri": "https://localhost:8080/"
        },
        "id": "AySHvkqBBcE3",
        "outputId": "241d08eb-358e-4c7b-c566-ec1eab93e70a"
      },
      "execution_count": null,
      "outputs": [
        {
          "output_type": "stream",
          "name": "stdout",
          "text": [
            "Hello\b\n"
          ]
        }
      ]
    },
    {
      "cell_type": "code",
      "source": [
        "print(\"book\\f\")\n",
        "print(\"Hahaha\\vha\")"
      ],
      "metadata": {
        "colab": {
          "base_uri": "https://localhost:8080/"
        },
        "id": "PI1z2p4sBlqI",
        "outputId": "5ad3e2b8-047d-467d-a49f-4eb18c1de14f"
      },
      "execution_count": null,
      "outputs": [
        {
          "output_type": "stream",
          "name": "stdout",
          "text": [
            "book\f\n",
            "Hahaha\u000bha\n"
          ]
        }
      ]
    },
    {
      "cell_type": "markdown",
      "source": [
        ".lower() and .upper() is used to lower or capitalize the character in a given string these methods can be used for normalization to ensure the consistency for embedding in NLP"
      ],
      "metadata": {
        "id": "3tGE549sDJX_"
      }
    },
    {
      "cell_type": "code",
      "source": [
        "X=\"AnShU\"\n",
        "print(X.lower())\n",
        "print(X.upper())\n",
        "print(X.capitalize())\n",
        "print(X.title())"
      ],
      "metadata": {
        "colab": {
          "base_uri": "https://localhost:8080/"
        },
        "id": "c0RV1lStCXjQ",
        "outputId": "54261d36-a557-4640-d4a0-485530baee36"
      },
      "execution_count": null,
      "outputs": [
        {
          "output_type": "stream",
          "name": "stdout",
          "text": [
            "anshu\n",
            "ANSHU\n",
            "Anshu\n",
            "Anshu\n"
          ]
        }
      ]
    },
    {
      "cell_type": "markdown",
      "source": [
        "**Strip method**"
      ],
      "metadata": {
        "id": "_DTBLdRFDqiJ"
      }
    },
    {
      "cell_type": "code",
      "source": [
        "x=\"@Anshu Kumar&\"\n",
        "print(x.strip(\"@,&\"))\n",
        "print(x.replace(\" \",\"\"))"
      ],
      "metadata": {
        "colab": {
          "base_uri": "https://localhost:8080/"
        },
        "id": "W5gqni9ADx6m",
        "outputId": "24708647-2282-4a69-cdbb-86c866eeb8fc"
      },
      "execution_count": null,
      "outputs": [
        {
          "output_type": "stream",
          "name": "stdout",
          "text": [
            "Anshu Kumar\n",
            "@AnshuKumar&\n"
          ]
        }
      ]
    },
    {
      "cell_type": "markdown",
      "source": [
        "\n",
        "\n",
        "*  The strip method in python is designed to remove leading and trailing whitespaces characters or specific character from thr string It does not remove the space while occur in middle of string.\n",
        "The alternative method to remove the middle whitespace is replace (The value to be replaced,the value you want to replace with).\n",
        "\n",
        "\n",
        "*The applications are\n",
        "\n",
        "1.  Cleaning of data.\n",
        "2.  You can replace null value with any character.\n",
        "3.  Correcting the text for ex-typos,slang.\n",
        "\n",
        "\n"
      ],
      "metadata": {
        "id": "R7sqWlrDFKRQ"
      }
    },
    {
      "cell_type": "markdown",
      "source": [
        "#split method\n",
        "1.)Split a sentence \"This movie is amazing\".\n",
        "2. Split/join method is used for tokenization the method involves splitting the string into a list of words as a spaces as a delimeter .this delimeter automatically handles multiple spaces between words.\n",
        "join method back the word together without spaces."
      ],
      "metadata": {
        "id": "gp7nivK-GxMG"
      }
    },
    {
      "cell_type": "code",
      "source": [
        "a=\"This movie is amazing . This was my first movie . But the theater was bad .\"\n",
        "words=a.split()\n",
        "print(words)\n",
        "\n",
        "print(\"\".join(words))"
      ],
      "metadata": {
        "colab": {
          "base_uri": "https://localhost:8080/"
        },
        "id": "NH10MNrnG1cW",
        "outputId": "d53ed1b4-634e-44ab-939e-6876549d6d7f"
      },
      "execution_count": null,
      "outputs": [
        {
          "output_type": "stream",
          "name": "stdout",
          "text": [
            "['This', 'movie', 'is', 'amazing', '.', 'This', 'was', 'my', 'first', 'movie', '.', 'But', 'the', 'theater', 'was', 'bad', '.']\n",
            "Thismovieisamazing.Thiswasmyfirstmovie.Butthetheaterwasbad.\n"
          ]
        }
      ]
    },
    {
      "cell_type": "markdown",
      "source": [
        "**Lecture 4**"
      ],
      "metadata": {
        "id": "_8UEfTTFY961"
      }
    },
    {
      "cell_type": "code",
      "source": [
        "txt=\"This is a python python class\"\n",
        "print(txt.find(\"python\"))\n",
        "print(txt.find(\"python1\"))\n",
        "print(txt.count(\"python\"))\n",
        "print(txt.find(\"python\",9,25))\n",
        "print(txt.index(\"python\"))\n",
        "print(txt.index(\"python1\"))"
      ],
      "metadata": {
        "colab": {
          "base_uri": "https://localhost:8080/",
          "height": 263
        },
        "id": "2af-UsnUadQX",
        "outputId": "7f83773e-1748-4647-c821-10e138cafb8e"
      },
      "execution_count": null,
      "outputs": [
        {
          "output_type": "stream",
          "name": "stdout",
          "text": [
            "10\n",
            "-1\n",
            "2\n",
            "10\n",
            "10\n"
          ]
        },
        {
          "output_type": "error",
          "ename": "ValueError",
          "evalue": "substring not found",
          "traceback": [
            "\u001b[0;31m---------------------------------------------------------------------------\u001b[0m",
            "\u001b[0;31mValueError\u001b[0m                                Traceback (most recent call last)",
            "\u001b[0;32m/tmp/ipython-input-2398888278.py\u001b[0m in \u001b[0;36m<cell line: 0>\u001b[0;34m()\u001b[0m\n\u001b[1;32m      5\u001b[0m \u001b[0mprint\u001b[0m\u001b[0;34m(\u001b[0m\u001b[0mtxt\u001b[0m\u001b[0;34m.\u001b[0m\u001b[0mfind\u001b[0m\u001b[0;34m(\u001b[0m\u001b[0;34m\"python\"\u001b[0m\u001b[0;34m,\u001b[0m\u001b[0;36m9\u001b[0m\u001b[0;34m,\u001b[0m\u001b[0;36m25\u001b[0m\u001b[0;34m)\u001b[0m\u001b[0;34m)\u001b[0m\u001b[0;34m\u001b[0m\u001b[0;34m\u001b[0m\u001b[0m\n\u001b[1;32m      6\u001b[0m \u001b[0mprint\u001b[0m\u001b[0;34m(\u001b[0m\u001b[0mtxt\u001b[0m\u001b[0;34m.\u001b[0m\u001b[0mindex\u001b[0m\u001b[0;34m(\u001b[0m\u001b[0;34m\"python\"\u001b[0m\u001b[0;34m)\u001b[0m\u001b[0;34m)\u001b[0m\u001b[0;34m\u001b[0m\u001b[0;34m\u001b[0m\u001b[0m\n\u001b[0;32m----> 7\u001b[0;31m \u001b[0mprint\u001b[0m\u001b[0;34m(\u001b[0m\u001b[0mtxt\u001b[0m\u001b[0;34m.\u001b[0m\u001b[0mindex\u001b[0m\u001b[0;34m(\u001b[0m\u001b[0;34m\"python1\"\u001b[0m\u001b[0;34m)\u001b[0m\u001b[0;34m)\u001b[0m\u001b[0;34m\u001b[0m\u001b[0;34m\u001b[0m\u001b[0m\n\u001b[0m",
            "\u001b[0;31mValueError\u001b[0m: substring not found"
          ]
        }
      ]
    },
    {
      "cell_type": "code",
      "source": [
        "#Is digit function\n",
        "x=\"5800\"\n",
        "print(x.isdigit())"
      ],
      "metadata": {
        "colab": {
          "base_uri": "https://localhost:8080/"
        },
        "id": "JfF1mLpacIpg",
        "outputId": "6b0439e2-7f52-4dc3-8d81-42e0ad5b3643"
      },
      "execution_count": null,
      "outputs": [
        {
          "output_type": "stream",
          "name": "stdout",
          "text": [
            "True\n"
          ]
        }
      ]
    },
    {
      "cell_type": "code",
      "source": [
        "x=\"\\u00B2\"\n",
        "print(x.isdigit()) #\\u->Unicode"
      ],
      "metadata": {
        "colab": {
          "base_uri": "https://localhost:8080/"
        },
        "id": "uZOJ18fMcZ_r",
        "outputId": "efee40e8-add4-4fd9-eb57-b04000a24a3b"
      },
      "execution_count": null,
      "outputs": [
        {
          "output_type": "stream",
          "name": "stdout",
          "text": [
            "True\n"
          ]
        }
      ]
    },
    {
      "cell_type": "code",
      "source": [
        "txt=\"This is a python python class\"\n",
        "print(txt.startswith(\"is\",4,12))\n",
        "print(txt.endswith(\"class\"))\n",
        "\n",
        "#check weather the string ends with class or python.\n",
        "\n",
        "print(txt.endswith((\"class\",\"python\")))"
      ],
      "metadata": {
        "colab": {
          "base_uri": "https://localhost:8080/"
        },
        "id": "tTce5uiccrHp",
        "outputId": "717eb60c-807f-4aeb-9b3c-b819bfe11b16"
      },
      "execution_count": null,
      "outputs": [
        {
          "output_type": "stream",
          "name": "stdout",
          "text": [
            "False\n",
            "True\n",
            "True\n"
          ]
        }
      ]
    },
    {
      "cell_type": "code",
      "source": [
        "Avenger=\"IRONMAN,THOR,HULK\"\n",
        "print(\"THOR\" in Avenger)\n",
        "print(\"SPIDERMAN\" not in Avenger)\n",
        "if \"THOR\" in Avenger:\n",
        "   print(\"Thor is here\")\n",
        "\n",
        "if \"IRONMAN\" not in Avenger:\n",
        "   print(\"IRONMAN not here\")"
      ],
      "metadata": {
        "colab": {
          "base_uri": "https://localhost:8080/"
        },
        "id": "FocC7LRieKjX",
        "outputId": "1d61a750-00cc-4057-dac0-88f13a7122a6"
      },
      "execution_count": null,
      "outputs": [
        {
          "output_type": "stream",
          "name": "stdout",
          "text": [
            "True\n",
            "True\n",
            "Thor is here\n"
          ]
        }
      ]
    },
    {
      "cell_type": "markdown",
      "source": [
        "Loki tried to trick avenger check if loki is in it .\n",
        "if yes enemy detected."
      ],
      "metadata": {
        "id": "nLPiyOiPe6dR"
      }
    },
    {
      "cell_type": "code",
      "source": [
        "Enemy=\"Ultron,Loki,Thanos\"\n",
        "\n",
        "if \"Loki\" in Enemy:\n",
        "  print(\"Enemy detected\")\n",
        "\n",
        "else:\n",
        "  print(\"not detected\")"
      ],
      "metadata": {
        "colab": {
          "base_uri": "https://localhost:8080/"
        },
        "id": "1RSjet9cfXEE",
        "outputId": "decbe8a4-fe81-41f3-d254-d7f19b689bd1"
      },
      "execution_count": null,
      "outputs": [
        {
          "output_type": "stream",
          "name": "stdout",
          "text": [
            "Enemy detected\n"
          ]
        }
      ]
    },
    {
      "cell_type": "markdown",
      "source": [
        "we define the uses of capitals in a word to be right when one of the following cases hold\n",
        "\n",
        "1. All letters in this word are capital like USA\n",
        "2. All letters in the word are not capital like leetcode\n",
        "3. only the forst letter is capital\n",
        "\n",
        "given a string word return true if the uses of capital init is right"
      ],
      "metadata": {
        "id": "5oBPoHxffj5L"
      }
    },
    {
      "cell_type": "code",
      "source": [
        "word=\"FLAG\"\n",
        "cpy=word\n",
        "\n",
        "if word==cpy.capitalize():\n",
        "  print(\"TRUE\")\n",
        "\n",
        "elif word==cpy.lower():\n",
        "  print(\"TRUE\")\n",
        "\n",
        "elif word==cpy.upper():\n",
        "  print(\"TRUE\")\n",
        "\n",
        "else:\n",
        "  print(\"False\")"
      ],
      "metadata": {
        "colab": {
          "base_uri": "https://localhost:8080/"
        },
        "id": "qQJKSrdpg61B",
        "outputId": "b9515172-2726-4115-945d-50f747221134"
      },
      "execution_count": null,
      "outputs": [
        {
          "output_type": "stream",
          "name": "stdout",
          "text": [
            "TRUE\n"
          ]
        }
      ]
    },
    {
      "cell_type": "code",
      "source": [
        "word=[\"How\",\"are\",\"you\"]\n",
        "#print(word.strip(\"\"))\n",
        "\n",
        "for i in word:\n",
        "  print(i.strip(\" \"))"
      ],
      "metadata": {
        "colab": {
          "base_uri": "https://localhost:8080/"
        },
        "id": "5vC1jlE_joBf",
        "outputId": "3562fb78-227a-4269-87a2-06e0c45cb500"
      },
      "execution_count": null,
      "outputs": [
        {
          "output_type": "stream",
          "name": "stdout",
          "text": [
            "How\n",
            "are\n",
            "you\n"
          ]
        }
      ]
    },
    {
      "cell_type": "markdown",
      "source": [
        "# Lecture 5"
      ],
      "metadata": {
        "id": "dAZvQ5i4JQEa"
      }
    },
    {
      "cell_type": "markdown",
      "source": [
        "# **Boolean**"
      ],
      "metadata": {
        "id": "_aoaDZ2WATkE"
      }
    },
    {
      "cell_type": "code",
      "source": [
        "print(type(True))\n",
        "\n",
        "print(type(False))\n",
        "\n",
        "print(10>9 and 10>8)\n",
        "\n",
        "print(10<9 or 10>8)\n",
        "\n",
        "print(not 10>8)\n",
        "\n",
        "print(bool([]))\n",
        "print(bool(\"\"))"
      ],
      "metadata": {
        "colab": {
          "base_uri": "https://localhost:8080/"
        },
        "id": "2BsSiDRcAg0s",
        "outputId": "c7e57694-b64b-4396-eecc-3e671ad2b409"
      },
      "execution_count": null,
      "outputs": [
        {
          "output_type": "stream",
          "name": "stdout",
          "text": [
            "<class 'bool'>\n",
            "<class 'bool'>\n",
            "True\n",
            "True\n",
            "False\n",
            "False\n",
            "True\n"
          ]
        }
      ]
    },
    {
      "cell_type": "code",
      "source": [
        "mark =[65,70,80]\n",
        "\n",
        "print(all(m>=40 for m in mark)) #for all condition m>=40  must satisfy\n",
        "print(any(m>=70 for m in mark)) #for any one satisfying condition m>=70"
      ],
      "metadata": {
        "colab": {
          "base_uri": "https://localhost:8080/"
        },
        "id": "6LXpP-ggCVUy",
        "outputId": "180adfcb-27ce-4214-c29e-7fcaa1f45e90"
      },
      "execution_count": null,
      "outputs": [
        {
          "output_type": "stream",
          "name": "stdout",
          "text": [
            "True\n",
            "True\n"
          ]
        }
      ]
    },
    {
      "cell_type": "code",
      "source": [
        "a,b = True,False\n",
        "\n",
        "print(a^b)\n",
        "print(a^a)"
      ],
      "metadata": {
        "colab": {
          "base_uri": "https://localhost:8080/"
        },
        "id": "mT_CGuQQD3-D",
        "outputId": "c310d766-3805-4197-8414-29f2c7aa6410"
      },
      "execution_count": null,
      "outputs": [
        {
          "output_type": "stream",
          "name": "stdout",
          "text": [
            "True\n",
            "False\n"
          ]
        }
      ]
    },
    {
      "cell_type": "code",
      "source": [
        "#swap two numbers using xor\n",
        "a,b = 10,20\n",
        "a=a^b\n",
        "print(a)\n",
        "b=b^a # here b=b^(a^b) which is a\n",
        "print(b)\n",
        "a=a^b # here a=a^(b^a) which is b\n",
        "print(a,b)\n"
      ],
      "metadata": {
        "colab": {
          "base_uri": "https://localhost:8080/"
        },
        "id": "UQ11FFiCEKku",
        "outputId": "f690d2c9-1aa8-4861-ae84-a8f807253ad9"
      },
      "execution_count": null,
      "outputs": [
        {
          "output_type": "stream",
          "name": "stdout",
          "text": [
            "30\n",
            "10\n",
            "20 10\n"
          ]
        }
      ]
    },
    {
      "cell_type": "code",
      "source": [
        "print(10>9>8)\n",
        "\n",
        "print(10<9>8)"
      ],
      "metadata": {
        "colab": {
          "base_uri": "https://localhost:8080/"
        },
        "id": "ZNWpG5XvG6Ry",
        "outputId": "2f978704-14c4-4d67-cf0f-fb671f354253"
      },
      "execution_count": null,
      "outputs": [
        {
          "output_type": "stream",
          "name": "stdout",
          "text": [
            "True\n",
            "False\n"
          ]
        }
      ]
    },
    {
      "cell_type": "code",
      "source": [
        "n=21\n",
        "print((n%3==0)^(n%7==0))"
      ],
      "metadata": {
        "colab": {
          "base_uri": "https://localhost:8080/"
        },
        "id": "wmOItRiwISUX",
        "outputId": "bb8517db-6a6a-4938-8fcc-2bc57f4fb6c0"
      },
      "execution_count": null,
      "outputs": [
        {
          "output_type": "stream",
          "name": "stdout",
          "text": [
            "False\n"
          ]
        }
      ]
    },
    {
      "cell_type": "code",
      "source": [
        "a=[1,2]\n",
        "b=[1,2]\n",
        "print(a==b)\n",
        "print(a is b)\n",
        "a=100\n",
        "b=100\n",
        "print(a is b)\n",
        "s1=\"hello\"\n",
        "s2=\"hello\"\n",
        "print(s1 is s2)\n",
        "\n"
      ],
      "metadata": {
        "colab": {
          "base_uri": "https://localhost:8080/"
        },
        "id": "Cjh8yCjxIz3B",
        "outputId": "136ce624-4ecb-4e8d-e6b3-9fc6a09f5f08"
      },
      "execution_count": null,
      "outputs": [
        {
          "output_type": "stream",
          "name": "stdout",
          "text": [
            "True\n",
            "False\n",
            "True\n",
            "True\n"
          ]
        }
      ]
    },
    {
      "cell_type": "markdown",
      "source": [
        "#NOTE\n",
        "\n",
        "*  Is check the identity where as == checks equality of values(content)\n",
        "*   Both a and b are lists with same elements with 1,2 so python prints true.\n",
        "*   when you write a=[1,2] and b=[1,2] python creates two different lists in memory,therefore output is false.\n",
        "\n",
        "**Important note**\n",
        "\n",
        "*  if yoy use small integer or string sometimes a is b can be true because of python interning(optimisation for performance)\n",
        "\n",
        "*  In case of list dictionary sets python always creates a new object unless you explicitly assign\n"
      ],
      "metadata": {
        "id": "3akcRqYyJlUX"
      }
    },
    {
      "cell_type": "markdown",
      "source": [
        "#Homework\n",
        "\n",
        "\n",
        "\n",
        "1.   How can all() and any() make code shorter compared to multiple conditions\n",
        "2.   Write 5 boolean conditions using all or any from college life.\n",
        "\n"
      ],
      "metadata": {
        "id": "85xXWgRlK-Om"
      }
    },
    {
      "cell_type": "markdown",
      "source": [
        "\n",
        "\n",
        "\n",
        "\n",
        "*  Instead of repeating variables, you loop over them in a tuple/list.\n",
        "*  Adding or removing conditions just means adding/removing items in the tuple, not rewriting the if statement.\n",
        "\n"
      ],
      "metadata": {
        "id": "YvTkFmes6qdf"
      }
    },
    {
      "cell_type": "markdown",
      "source": [
        "# Lecture 6"
      ],
      "metadata": {
        "id": "JlSG0gDMqMG6"
      }
    },
    {
      "cell_type": "code",
      "source": [
        "a=10\n",
        "b=2\n",
        "print(a+b)\n",
        "print(a-b)\n",
        "print(a*b)\n",
        "print(a/b)\n",
        "print(a//b)\n",
        "print(-10//3)\n"
      ],
      "metadata": {
        "colab": {
          "base_uri": "https://localhost:8080/"
        },
        "id": "lzwV4lb0qXGp",
        "outputId": "97811281-8c84-437c-d6a4-940058ff40f3"
      },
      "execution_count": null,
      "outputs": [
        {
          "output_type": "stream",
          "name": "stdout",
          "text": [
            "12\n",
            "8\n",
            "20\n",
            "5.0\n",
            "5\n",
            "-4\n"
          ]
        }
      ]
    },
    {
      "cell_type": "markdown",
      "source": [
        "Float division round down towards 0.python always follows mathematical floor division,not truncate.In case of c/c++.The output truncate towards 0"
      ],
      "metadata": {
        "id": "AVKkkVzdrW80"
      }
    },
    {
      "cell_type": "markdown",
      "source": [
        "\n",
        "\n",
        "1.  Code optimization\n",
        "2.  Inplace updation\n",
        "3.  \n",
        "\n"
      ],
      "metadata": {
        "id": "WcPRFMl4sSKv"
      }
    },
    {
      "cell_type": "code",
      "source": [
        "a=15\n",
        "b=5\n",
        "\n",
        "a+=b\n",
        "print(a)\n",
        "\n",
        "a-=b\n",
        "print(a)\n",
        "\n",
        "a*=b\n",
        "print(a)\n",
        "\n",
        "a/=b\n",
        "print(a)\n",
        "\n",
        "a//=b\n",
        "print(a)\n",
        "\n",
        "a%=b\n",
        "print(a)\n",
        "\n",
        "a**=b\n",
        "print(a)\n",
        "\n",
        "a=int(a)\n",
        "a&=b\n",
        "print(a)\n",
        "\n",
        "a|=b\n",
        "print(a)\n",
        "\n",
        "a^=b\n",
        "print(a)\n",
        "\n",
        "a>>=b\n",
        "print(a)\n",
        "\n",
        "a<<=b\n",
        "print(a)\n",
        "\n"
      ],
      "metadata": {
        "colab": {
          "base_uri": "https://localhost:8080/"
        },
        "id": "BXThfH6OszB_",
        "outputId": "faa90756-f781-4e6d-cb44-b575079b2989"
      },
      "execution_count": null,
      "outputs": [
        {
          "output_type": "stream",
          "name": "stdout",
          "text": [
            "20\n",
            "15\n",
            "75\n",
            "15.0\n",
            "3.0\n",
            "3.0\n",
            "243.0\n",
            "1\n",
            "5\n",
            "0\n",
            "0\n",
            "0\n"
          ]
        }
      ]
    },
    {
      "cell_type": "code",
      "source": [
        "print(10==10.0)\n",
        "print(\"10\"==10)\n"
      ],
      "metadata": {
        "colab": {
          "base_uri": "https://localhost:8080/"
        },
        "id": "AmCq8AdVvlmX",
        "outputId": "9d4e2718-a38d-4250-960a-3a09bf60d390"
      },
      "execution_count": null,
      "outputs": [
        {
          "output_type": "stream",
          "name": "stdout",
          "text": [
            "True\n",
            "False\n"
          ]
        }
      ]
    },
    {
      "cell_type": "code",
      "source": [
        "print(3<4<5)"
      ],
      "metadata": {
        "colab": {
          "base_uri": "https://localhost:8080/"
        },
        "id": "5NlOSgRxwDFo",
        "outputId": "2c7277f2-bf21-450d-adf5-7d1c355ac239"
      },
      "execution_count": null,
      "outputs": [
        {
          "output_type": "stream",
          "name": "stdout",
          "text": [
            "True\n"
          ]
        }
      ]
    },
    {
      "cell_type": "markdown",
      "source": [
        "\n",
        "\n",
        "1.   Python emphasizes chain comparison.\n",
        "2.  Boolean are sub class of integer\n",
        "\n"
      ],
      "metadata": {
        "id": "BueGE_V3wS-9"
      }
    },
    {
      "cell_type": "code",
      "source": [
        "print(True and False)\n",
        "print(True or False)\n",
        "print(0 and 5)\n",
        "print(0 or 5)\n",
        "print([] and \"hi\")\n",
        "print([] or \"hi\")"
      ],
      "metadata": {
        "colab": {
          "base_uri": "https://localhost:8080/"
        },
        "id": "1fkflpInwzQ-",
        "outputId": "f7fc3da3-a875-4fd9-8afc-9134da23dbff"
      },
      "execution_count": null,
      "outputs": [
        {
          "output_type": "stream",
          "name": "stdout",
          "text": [
            "False\n",
            "True\n",
            "0\n",
            "5\n",
            "[]\n",
            "hi\n"
          ]
        }
      ]
    },
    {
      "cell_type": "markdown",
      "source": [
        "a and b does not evaluate b if a is false"
      ],
      "metadata": {
        "id": "v1g3zlRgxxCz"
      }
    },
    {
      "cell_type": "markdown",
      "source": [
        "**Identity operators**\n",
        "\n",
        "check object identity not value"
      ],
      "metadata": {
        "id": "0qn3aR-CyLdQ"
      }
    },
    {
      "cell_type": "code",
      "source": [
        "a=[1,2,3]\n",
        "b=[1,2,3]\n",
        "\n",
        "print(a==b)\n",
        "print(a is b)\n",
        "\n",
        "\n",
        "x=256\n",
        "y=256\n",
        "print(x is y)"
      ],
      "metadata": {
        "colab": {
          "base_uri": "https://localhost:8080/"
        },
        "id": "NOt3mg9ByRZj",
        "outputId": "d1acd163-85af-4552-d565-2f002f46365d"
      },
      "execution_count": null,
      "outputs": [
        {
          "output_type": "stream",
          "name": "stdout",
          "text": [
            "True\n",
            "False\n",
            "True\n"
          ]
        }
      ]
    },
    {
      "cell_type": "code",
      "source": [
        "x=257\n",
        "y=257\n",
        "\n",
        "print(x==y)\n",
        "print(x is y)  #In python -5 to 256 the value is true and above it is false as for these same memory is stored"
      ],
      "metadata": {
        "colab": {
          "base_uri": "https://localhost:8080/"
        },
        "id": "rImGzCIEy-rJ",
        "outputId": "2a3bf941-c457-4ec1-cded-f076fb09857e"
      },
      "execution_count": null,
      "outputs": [
        {
          "output_type": "stream",
          "name": "stdout",
          "text": [
            "True\n",
            "False\n"
          ]
        }
      ]
    },
    {
      "cell_type": "code",
      "source": [
        "print(\"NANA\" in \"BANANA\")\n",
        "\n"
      ],
      "metadata": {
        "colab": {
          "base_uri": "https://localhost:8080/"
        },
        "id": "1K_IrnAzzer_",
        "outputId": "3a65bd6e-460e-4d08-a769-1499a2494ed9"
      },
      "execution_count": null,
      "outputs": [
        {
          "output_type": "stream",
          "name": "stdout",
          "text": [
            "True\n"
          ]
        }
      ]
    },
    {
      "cell_type": "code",
      "source": [
        "print(~(-5))\n",
        "print(5 and 3)\n",
        "print(5 or 3)\n",
        "print(5 ^ 3)\n",
        "print(5 << 1)\n"
      ],
      "metadata": {
        "colab": {
          "base_uri": "https://localhost:8080/"
        },
        "id": "kRy5gCFi0P_r",
        "outputId": "b5de3368-0e4a-4e14-a2af-9ad31b2e159d"
      },
      "execution_count": null,
      "outputs": [
        {
          "output_type": "stream",
          "name": "stdout",
          "text": [
            "4\n",
            "3\n",
            "5\n",
            "6\n",
            "10\n"
          ]
        }
      ]
    },
    {
      "cell_type": "code",
      "source": [
        "a=[2,7,11,15]\n",
        "tgt=9\n",
        "for i in a:\n",
        "   if (tgt-i) in a:\n",
        "       print(i)\n"
      ],
      "metadata": {
        "colab": {
          "base_uri": "https://localhost:8080/"
        },
        "id": "zp_dQPuK1Dgx",
        "outputId": "e2f4bbc4-3b02-4ea9-b9f9-d1bcfe8e2b85"
      },
      "execution_count": null,
      "outputs": [
        {
          "output_type": "stream",
          "name": "stdout",
          "text": [
            "2\n",
            "7\n"
          ]
        }
      ]
    },
    {
      "cell_type": "code",
      "source": [
        "a=[2,7,11,15]\n",
        "tgt=9\n"
      ],
      "metadata": {
        "id": "MBD_6rFL2vub"
      },
      "execution_count": null,
      "outputs": []
    },
    {
      "cell_type": "markdown",
      "source": [
        "# Lecture - 7"
      ],
      "metadata": {
        "id": "5USyD8_11lhQ"
      }
    },
    {
      "cell_type": "code",
      "source": [
        "#List data types\n",
        "infinity_stones = [\"space\",\"power\",\"reality\",\"soul\",\"time\",\"mind\"]\n",
        "\n",
        "print(infinity_stones[0])\n",
        "\n",
        "print(infinity_stones[-1])\n",
        "\n",
        "# infinity_stones[0]=\"multiversal stone\"\n",
        "print(infinity_stones[0])\n",
        "\n",
        "if \"space\" in infinity_stones:\n",
        "    print(\"Found\")\n"
      ],
      "metadata": {
        "colab": {
          "base_uri": "https://localhost:8080/"
        },
        "id": "tOmxze_81aHA",
        "outputId": "b4b055a1-4856-4638-c264-9b23699ba509"
      },
      "execution_count": null,
      "outputs": [
        {
          "output_type": "stream",
          "name": "stdout",
          "text": [
            "space\n",
            "mind\n",
            "space\n",
            "Found\n"
          ]
        }
      ]
    },
    {
      "cell_type": "code",
      "source": [
        "Lokis =[\"Loki\",\"2000\",True]\n",
        "print(type(Lokis[2]))\n",
        "print(len(Lokis))"
      ],
      "metadata": {
        "colab": {
          "base_uri": "https://localhost:8080/"
        },
        "id": "Aus5D7iE4LXV",
        "outputId": "053bf78f-3f0c-4312-f32f-1d4606175722"
      },
      "execution_count": null,
      "outputs": [
        {
          "output_type": "stream",
          "name": "stdout",
          "text": [
            "<class 'bool'>\n",
            "3\n"
          ]
        }
      ]
    },
    {
      "cell_type": "code",
      "source": [
        "Guardians =list((\"Groot\",\"Drax\",\"Rocket\",\"Gamora\"))\n",
        "\n",
        "Guardians.append(\"Star lord\")# Appends the element in last of list\n",
        "print(Guardians[0])\n",
        "print(Guardians[-1])\n",
        "\n",
        "Guardians.insert(0,\"Mantis\")# Appends the element at given index of list\n",
        "print(Guardians[0])\n",
        "\n",
        "Lokis =[\"Loki\",\"2000\",True]\n",
        "Guardians.extend(Lokis)\n",
        "\n",
        "tupple=(\"Ant-man\",\"Captain\") #Non mutable\n",
        "Guardians.extend(tupple)\n",
        "\n",
        "print(Guardians)\n"
      ],
      "metadata": {
        "colab": {
          "base_uri": "https://localhost:8080/"
        },
        "id": "MSHjExsB57xp",
        "outputId": "44a58bc1-b6b4-4d99-ab1b-b2383fbeb844"
      },
      "execution_count": null,
      "outputs": [
        {
          "output_type": "stream",
          "name": "stdout",
          "text": [
            "Groot\n",
            "Star lord\n",
            "Mantis\n",
            "['Mantis', 'Groot', 'Drax', 'Rocket', 'Gamora', 'Star lord', 'Loki', '2000', True, 'Ant-man', 'Captain']\n"
          ]
        }
      ]
    },
    {
      "cell_type": "code",
      "source": [
        "fruits = [\"Banana\",\"orange\",\"Apple\"]\n",
        "\n",
        "fruits.insert(0,\"Cherry\")\n",
        "print(fruits[0])\n",
        "\n",
        "fruits.remove(\"Cherry\")\n",
        "print(fruits[0])\n",
        "\n",
        "fruits.pop(1)\n",
        "print(fruits)\n",
        "\n",
        "fruits.pop() # deletes last element\n",
        "\n",
        "del fruits[0] # delets overall space\n",
        "\n",
        "# Del is faster than Remove as del requires index and remove requires to search the content\n",
        "\n",
        "\n",
        "Guardians =list((\"Groot\",\"Drax\",\"Rocket\",\"Gamora\"))\n",
        "\n",
        "\n",
        "# Guardians.remove([1:3]) =>Not possible\n",
        "\n",
        "del Guardians[1:3]\n",
        "print(Guardians)\n",
        "\n",
        "\n",
        "Guardians.clear() # clears all the contents in list not the list.\n",
        "print(Guardians)\n"
      ],
      "metadata": {
        "colab": {
          "base_uri": "https://localhost:8080/"
        },
        "id": "M_LT81Zt9CCl",
        "outputId": "0aebd4c7-65b9-43ee-b51f-a3eba13be988"
      },
      "execution_count": null,
      "outputs": [
        {
          "output_type": "stream",
          "name": "stdout",
          "text": [
            "Cherry\n",
            "Banana\n",
            "['Banana', 'Apple']\n",
            "['Groot', 'Gamora']\n",
            "[]\n"
          ]
        }
      ]
    },
    {
      "cell_type": "code",
      "source": [
        "list =[\"Groot\",\"Drax\",\"Rocket\",\"Gamora\"]\n",
        "\n",
        "for i in list:\n",
        "  print(i)\n",
        "\n",
        "list.clear()\n",
        "list.append(\"Waybig\")\n",
        "list.append(\"AlienX\")\n",
        "print(list)\n",
        "\n",
        "\n",
        "for x in range(len(list)) :\n",
        "  print(x,list[x])"
      ],
      "metadata": {
        "colab": {
          "base_uri": "https://localhost:8080/"
        },
        "id": "zEtD2yprDuV7",
        "outputId": "680025ba-de89-4995-f54e-ccc5a9896c5a"
      },
      "execution_count": null,
      "outputs": [
        {
          "output_type": "stream",
          "name": "stdout",
          "text": [
            "Groot\n",
            "Drax\n",
            "Rocket\n",
            "Gamora\n",
            "['Waybig', 'AlienX']\n",
            "0 Waybig\n",
            "1 AlienX\n"
          ]
        }
      ]
    },
    {
      "cell_type": "code",
      "source": [
        "i=0\n",
        "while i<len(list):\n",
        "  print(list)\n",
        "  i=i+1"
      ],
      "metadata": {
        "colab": {
          "base_uri": "https://localhost:8080/"
        },
        "id": "WzSj9XY9JOb1",
        "outputId": "791e09ad-d093-42f7-c69e-528e4eb66524"
      },
      "execution_count": null,
      "outputs": [
        {
          "output_type": "stream",
          "name": "stdout",
          "text": [
            "['Waybig']\n"
          ]
        }
      ]
    },
    {
      "cell_type": "code",
      "source": [
        "fruits = [\"Banana\",\"orange\",\"Apple\"]\n",
        "\n",
        "print([x for x in fruits])"
      ],
      "metadata": {
        "colab": {
          "base_uri": "https://localhost:8080/"
        },
        "id": "0-AZ80spJ0Ft",
        "outputId": "5bdf281f-c988-45b1-88c4-f2576a8eb950"
      },
      "execution_count": null,
      "outputs": [
        {
          "output_type": "stream",
          "name": "stdout",
          "text": [
            "['Banana', 'orange', 'Apple']\n"
          ]
        }
      ]
    },
    {
      "cell_type": "markdown",
      "source": [
        "# Lecture-8"
      ],
      "metadata": {
        "id": "0mMicOJUbSeR"
      }
    },
    {
      "cell_type": "code",
      "source": [
        "hero =['ironman','spiderman','hulk']\n",
        "i=0\n",
        "while i<len(hero):\n",
        "  print(hero[i])\n",
        "  i+=1\n",
        "\n",
        "print([i for i in hero])"
      ],
      "metadata": {
        "colab": {
          "base_uri": "https://localhost:8080/"
        },
        "id": "RnfhAXdNbWTV",
        "outputId": "0ea588a7-6c97-4788-ff83-98aacd4a885f"
      },
      "execution_count": null,
      "outputs": [
        {
          "output_type": "stream",
          "name": "stdout",
          "text": [
            "ironman\n",
            "spiderman\n",
            "hulk\n",
            "['ironman', 'spiderman', 'hulk']\n"
          ]
        }
      ]
    },
    {
      "cell_type": "markdown",
      "source": [
        "Q.You need to filter out the name of avenger that contains america substring."
      ],
      "metadata": {
        "id": "bfoZE6v1df3Y"
      }
    },
    {
      "cell_type": "code",
      "source": [
        "hero =['ironman','spiderman','hulk','captain America']\n",
        "\n",
        "new_list=[i for i in hero if \"America\" in i]\n",
        "print(new_list)"
      ],
      "metadata": {
        "colab": {
          "base_uri": "https://localhost:8080/"
        },
        "id": "-Z1oGYwYd4W9",
        "outputId": "850cc446-accb-4d39-a4c4-c5533cafe922"
      },
      "execution_count": null,
      "outputs": [
        {
          "output_type": "stream",
          "name": "stdout",
          "text": [
            "['captain America']\n"
          ]
        }
      ]
    },
    {
      "cell_type": "markdown",
      "source": [
        "Replace hulk with calm guy"
      ],
      "metadata": {
        "id": "tiKsadJWeiHs"
      }
    },
    {
      "cell_type": "code",
      "source": [
        "hero =['ironman','spiderman','hulk','captain America']\n",
        "#NOT WORKING CODES\n",
        "#new_list=[i for i in hero if 'hulk' in i i.replace('hulk','calm-guy')]\n",
        "\n",
        "# for i in hero:\n",
        "#   if i=='hulk':\n",
        "#     i='calm guy'\n",
        "\n",
        "\n",
        "new_list=['calm-guy' if i=='hulk' else i for i in hero]\n",
        "\n",
        "new =[x if x!='hulk' else 'calm-guy' for x in hero]\n",
        "\n",
        "\n",
        "\n",
        "print([i for i in hero])\n"
      ],
      "metadata": {
        "colab": {
          "base_uri": "https://localhost:8080/"
        },
        "id": "mgrkw1LremmL",
        "outputId": "251815e1-42fc-4ef7-b0ae-58ca20e0d884"
      },
      "execution_count": null,
      "outputs": [
        {
          "output_type": "stream",
          "name": "stdout",
          "text": [
            "['ironman', 'spiderman', 'hulk', 'captain America']\n"
          ]
        }
      ]
    },
    {
      "cell_type": "markdown",
      "source": [
        "Make the characters in the list to the uppercase"
      ],
      "metadata": {
        "id": "gNZNU5tHgqmy"
      }
    },
    {
      "cell_type": "code",
      "source": [
        "hero =['ironman','spiderman','hulk','captain America']\n",
        "\n",
        "for i in hero:\n",
        "  print(i.upper())\n",
        "\n",
        "print([i.upper() for i in hero])\n"
      ],
      "metadata": {
        "colab": {
          "base_uri": "https://localhost:8080/"
        },
        "id": "P1FZ0szwhAPr",
        "outputId": "5255e0b4-0a6d-40d4-dd7d-a255e662a188"
      },
      "execution_count": null,
      "outputs": [
        {
          "output_type": "stream",
          "name": "stdout",
          "text": [
            "IRONMAN\n",
            "SPIDERMAN\n",
            "HULK\n",
            "CAPTAIN AMERICA\n",
            "['IRONMAN', 'SPIDERMAN', 'HULK', 'CAPTAIN AMERICA']\n"
          ]
        }
      ]
    },
    {
      "cell_type": "code",
      "source": [
        "hero =['ironman','spiderman','hulk','captain America']\n",
        "print([x for x in range(len(hero))])"
      ],
      "metadata": {
        "colab": {
          "base_uri": "https://localhost:8080/"
        },
        "id": "BZQJNN5dhlxV",
        "outputId": "fa7f1aa5-2067-4088-8556-76b0f06d2629"
      },
      "execution_count": null,
      "outputs": [
        {
          "output_type": "stream",
          "name": "stdout",
          "text": [
            "[0, 1, 2, 3]\n"
          ]
        }
      ]
    },
    {
      "cell_type": "code",
      "source": [
        "# create a list that only contains prime numbers\n",
        "\n",
        "print([x for x in range(2,100) if all(x%y!=0 for y in range(2,x))])\n",
        "\n"
      ],
      "metadata": {
        "colab": {
          "base_uri": "https://localhost:8080/"
        },
        "id": "gWFURtFXiL-8",
        "outputId": "865b6c74-b8ed-4e61-c3dd-f2aedcf6c2c9"
      },
      "execution_count": null,
      "outputs": [
        {
          "output_type": "stream",
          "name": "stdout",
          "text": [
            "[2, 3, 5, 7, 11, 13, 17, 19, 23, 29, 31, 37, 41, 43, 47, 53, 59, 61, 67, 71, 73, 79, 83, 89, 97]\n"
          ]
        }
      ]
    },
    {
      "cell_type": "markdown",
      "source": [
        "Create a list that contains all the gp series in 2"
      ],
      "metadata": {
        "id": "ooheaTTEjE-a"
      }
    },
    {
      "cell_type": "code",
      "source": [
        "print([(2**x) for x in range(10) ])"
      ],
      "metadata": {
        "colab": {
          "base_uri": "https://localhost:8080/"
        },
        "id": "9rlHaHWykykX",
        "outputId": "c5f3d1e5-ea15-497e-e03e-c0c76820fefe"
      },
      "execution_count": null,
      "outputs": [
        {
          "output_type": "stream",
          "name": "stdout",
          "text": [
            "[1, 2, 4, 8, 16, 32, 64, 128, 256, 512]\n"
          ]
        }
      ]
    },
    {
      "cell_type": "markdown",
      "source": [
        "# Lecture 9"
      ],
      "metadata": {
        "id": "Xl8pvF8zKg0-"
      }
    },
    {
      "cell_type": "code",
      "source": [
        " Stones =[\"Space\",\"Time\",\"Mind\",\"Power\",\"Reality\"]\n",
        " Stones.sort()\n",
        " print(Stones)\n",
        " Stones.sort(reverse=True)\n",
        " print(Stones)\n",
        " Stones.sort(key=str.lower)\n",
        " print(Stones)"
      ],
      "metadata": {
        "colab": {
          "base_uri": "https://localhost:8080/"
        },
        "id": "imdGpZjjJy48",
        "outputId": "85b25ee5-4043-4a75-ded1-b23fdbfe6136"
      },
      "execution_count": null,
      "outputs": [
        {
          "output_type": "stream",
          "name": "stdout",
          "text": [
            "['Mind', 'Power', 'Reality', 'Space', 'Time']\n",
            "['Time', 'Space', 'Reality', 'Power', 'Mind']\n",
            "['Mind', 'Power', 'Reality', 'Space', 'Time']\n"
          ]
        }
      ]
    },
    {
      "cell_type": "code",
      "source": [
        "s = \"programming\"\n",
        "for char in s:\n",
        "    if s.count(char) == 1:\n",
        "        print(f\"The first non-repeating character is: {char}\")\n",
        "        break\n",
        "else:\n",
        "    print(\"No non-repeating character found.\")\n",
        "\n",
        "s = \"aabbcc\"\n",
        "for char in s:\n",
        "    if s.count(char) == 1:\n",
        "        print(\"The first non-repeating character is: {char}\")\n",
        "        break\n",
        "else:\n",
        "    print(\"No non-repeating character found.\")"
      ],
      "metadata": {
        "colab": {
          "base_uri": "https://localhost:8080/"
        },
        "id": "4K22U6edBuSx",
        "outputId": "7ef08442-60ba-40d1-9384-8bca8d757041"
      },
      "execution_count": null,
      "outputs": [
        {
          "output_type": "stream",
          "name": "stdout",
          "text": [
            "The first non-repeating character is: p\n",
            "No non-repeating character found.\n"
          ]
        }
      ]
    },
    {
      "cell_type": "markdown",
      "source": [
        "# Lecture 10"
      ],
      "metadata": {
        "id": "EWPF2EqOIa_x"
      }
    },
    {
      "cell_type": "code",
      "source": [
        "arr=map(int,input(\"Enter Numbers\").split())\n",
        "print(list(arr))\n",
        "\n"
      ],
      "metadata": {
        "id": "OPYFOKlXIzpu",
        "colab": {
          "base_uri": "https://localhost:8080/"
        },
        "outputId": "1f4a01d7-86b8-48ca-a0d8-3016c97d00a8"
      },
      "execution_count": null,
      "outputs": [
        {
          "output_type": "stream",
          "name": "stdout",
          "text": [
            "Enter Numbers3 4 5\n",
            "[3, 4, 5]\n"
          ]
        }
      ]
    },
    {
      "cell_type": "code",
      "source": [
        "no=input(\"Enter Numbers\").split()\n",
        "print(list(no))"
      ],
      "metadata": {
        "colab": {
          "base_uri": "https://localhost:8080/",
          "height": 304
        },
        "collapsed": true,
        "id": "oDh5R1wmM-EN",
        "outputId": "77565b7f-d7e3-4946-ed32-6a199d533dde"
      },
      "execution_count": null,
      "outputs": [
        {
          "output_type": "error",
          "ename": "KeyboardInterrupt",
          "evalue": "Interrupted by user",
          "traceback": [
            "\u001b[0;31m---------------------------------------------------------------------------\u001b[0m",
            "\u001b[0;31mKeyboardInterrupt\u001b[0m                         Traceback (most recent call last)",
            "\u001b[0;32m/tmp/ipython-input-672329768.py\u001b[0m in \u001b[0;36m<cell line: 0>\u001b[0;34m()\u001b[0m\n\u001b[0;32m----> 1\u001b[0;31m \u001b[0mno\u001b[0m\u001b[0;34m=\u001b[0m\u001b[0minput\u001b[0m\u001b[0;34m(\u001b[0m\u001b[0;34m\"Enter Numbers\"\u001b[0m\u001b[0;34m)\u001b[0m\u001b[0;34m.\u001b[0m\u001b[0msplit\u001b[0m\u001b[0;34m(\u001b[0m\u001b[0;34m)\u001b[0m\u001b[0;34m\u001b[0m\u001b[0;34m\u001b[0m\u001b[0m\n\u001b[0m\u001b[1;32m      2\u001b[0m \u001b[0mprint\u001b[0m\u001b[0;34m(\u001b[0m\u001b[0mlist\u001b[0m\u001b[0;34m(\u001b[0m\u001b[0mno\u001b[0m\u001b[0;34m)\u001b[0m\u001b[0;34m)\u001b[0m\u001b[0;34m\u001b[0m\u001b[0;34m\u001b[0m\u001b[0m\n",
            "\u001b[0;32m/usr/local/lib/python3.12/dist-packages/ipykernel/kernelbase.py\u001b[0m in \u001b[0;36mraw_input\u001b[0;34m(self, prompt)\u001b[0m\n\u001b[1;32m   1175\u001b[0m                 \u001b[0;34m\"raw_input was called, but this frontend does not support input requests.\"\u001b[0m\u001b[0;34m\u001b[0m\u001b[0;34m\u001b[0m\u001b[0m\n\u001b[1;32m   1176\u001b[0m             )\n\u001b[0;32m-> 1177\u001b[0;31m         return self._input_request(\n\u001b[0m\u001b[1;32m   1178\u001b[0m             \u001b[0mstr\u001b[0m\u001b[0;34m(\u001b[0m\u001b[0mprompt\u001b[0m\u001b[0;34m)\u001b[0m\u001b[0;34m,\u001b[0m\u001b[0;34m\u001b[0m\u001b[0;34m\u001b[0m\u001b[0m\n\u001b[1;32m   1179\u001b[0m             \u001b[0mself\u001b[0m\u001b[0;34m.\u001b[0m\u001b[0m_parent_ident\u001b[0m\u001b[0;34m[\u001b[0m\u001b[0;34m\"shell\"\u001b[0m\u001b[0;34m]\u001b[0m\u001b[0;34m,\u001b[0m\u001b[0;34m\u001b[0m\u001b[0;34m\u001b[0m\u001b[0m\n",
            "\u001b[0;32m/usr/local/lib/python3.12/dist-packages/ipykernel/kernelbase.py\u001b[0m in \u001b[0;36m_input_request\u001b[0;34m(self, prompt, ident, parent, password)\u001b[0m\n\u001b[1;32m   1217\u001b[0m             \u001b[0;32mexcept\u001b[0m \u001b[0mKeyboardInterrupt\u001b[0m\u001b[0;34m:\u001b[0m\u001b[0;34m\u001b[0m\u001b[0;34m\u001b[0m\u001b[0m\n\u001b[1;32m   1218\u001b[0m                 \u001b[0;31m# re-raise KeyboardInterrupt, to truncate traceback\u001b[0m\u001b[0;34m\u001b[0m\u001b[0;34m\u001b[0m\u001b[0m\n\u001b[0;32m-> 1219\u001b[0;31m                 \u001b[0;32mraise\u001b[0m \u001b[0mKeyboardInterrupt\u001b[0m\u001b[0;34m(\u001b[0m\u001b[0;34m\"Interrupted by user\"\u001b[0m\u001b[0;34m)\u001b[0m \u001b[0;32mfrom\u001b[0m \u001b[0;32mNone\u001b[0m\u001b[0;34m\u001b[0m\u001b[0;34m\u001b[0m\u001b[0m\n\u001b[0m\u001b[1;32m   1220\u001b[0m             \u001b[0;32mexcept\u001b[0m \u001b[0mException\u001b[0m\u001b[0;34m:\u001b[0m\u001b[0;34m\u001b[0m\u001b[0;34m\u001b[0m\u001b[0m\n\u001b[1;32m   1221\u001b[0m                 \u001b[0mself\u001b[0m\u001b[0;34m.\u001b[0m\u001b[0mlog\u001b[0m\u001b[0;34m.\u001b[0m\u001b[0mwarning\u001b[0m\u001b[0;34m(\u001b[0m\u001b[0;34m\"Invalid Message:\"\u001b[0m\u001b[0;34m,\u001b[0m \u001b[0mexc_info\u001b[0m\u001b[0;34m=\u001b[0m\u001b[0;32mTrue\u001b[0m\u001b[0;34m)\u001b[0m\u001b[0;34m\u001b[0m\u001b[0;34m\u001b[0m\u001b[0m\n",
            "\u001b[0;31mKeyboardInterrupt\u001b[0m: Interrupted by user"
          ]
        }
      ]
    },
    {
      "cell_type": "code",
      "source": [
        "car = [\"Audi\",\"BMW\",\"Ferrari\",\"Tesla\"]\n",
        "color=[\"White\",\"Black\"]\n",
        "\n",
        "for i in car:\n",
        "  for j in color:\n",
        "    print(j,i)\n"
      ],
      "metadata": {
        "colab": {
          "base_uri": "https://localhost:8080/"
        },
        "id": "JGeiQWM4OU7i",
        "outputId": "412914f8-f1a1-4a8a-a521-0712505fbf6f"
      },
      "execution_count": null,
      "outputs": [
        {
          "output_type": "stream",
          "name": "stdout",
          "text": [
            "White Audi\n",
            "Black Audi\n",
            "White BMW\n",
            "Black BMW\n",
            "White Ferrari\n",
            "Black Ferrari\n",
            "White Tesla\n",
            "Black Tesla\n"
          ]
        }
      ]
    },
    {
      "cell_type": "code",
      "source": [
        "list1=[1,2,3,4,5]\n",
        "list1[2:]=[10]\n",
        "\n",
        "print(list1)"
      ],
      "metadata": {
        "colab": {
          "base_uri": "https://localhost:8080/"
        },
        "id": "Po_rMo8mU-fo",
        "outputId": "4e3074c0-1d73-4a98-bff9-4b35eead5f53"
      },
      "execution_count": null,
      "outputs": [
        {
          "output_type": "stream",
          "name": "stdout",
          "text": [
            "[1, 2, 10]\n"
          ]
        }
      ]
    }
  ]
}